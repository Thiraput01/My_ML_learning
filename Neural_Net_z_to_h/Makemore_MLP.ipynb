{
  "nbformat": 4,
  "nbformat_minor": 0,
  "metadata": {
    "colab": {
      "provenance": [],
      "gpuType": "T4",
      "authorship_tag": "ABX9TyOXArf9YmIETgL3zZhW2W9e",
      "include_colab_link": true
    },
    "kernelspec": {
      "name": "python3",
      "display_name": "Python 3"
    },
    "language_info": {
      "name": "python"
    },
    "accelerator": "GPU"
  },
  "cells": [
    {
      "cell_type": "markdown",
      "metadata": {
        "id": "view-in-github",
        "colab_type": "text"
      },
      "source": [
        "<a href=\"https://colab.research.google.com/github/Thiraput01/My_ML_learning/blob/main/Neural_Net_z_to_h/Makemore_MLP.ipynb\" target=\"_parent\"><img src=\"https://colab.research.google.com/assets/colab-badge.svg\" alt=\"Open In Colab\"/></a>"
      ]
    },
    {
      "cell_type": "code",
      "source": [
        "import random\n",
        "import torch\n",
        "import torch.nn.functional as F\n",
        "import matplotlib.pyplot as plt\n",
        "%matplotlib inline"
      ],
      "metadata": {
        "id": "fExhPyJV8ooE"
      },
      "execution_count": null,
      "outputs": []
    },
    {
      "cell_type": "code",
      "execution_count": null,
      "metadata": {
        "colab": {
          "base_uri": "https://localhost:8080/"
        },
        "id": "oeeNL2D28len",
        "outputId": "df4a969b-3994-4608-f76f-91b311cc8ae9"
      },
      "outputs": [
        {
          "output_type": "execute_result",
          "data": {
            "text/plain": [
              "['emma', 'olivia', 'ava', 'isabella', 'sophia', 'charlotte', 'mia', 'amelia']"
            ]
          },
          "metadata": {},
          "execution_count": 4
        }
      ],
      "source": [
        "words = open('names.txt', 'r').read().splitlines()\n",
        "words[:8]"
      ]
    },
    {
      "cell_type": "code",
      "source": [
        "len(words)"
      ],
      "metadata": {
        "colab": {
          "base_uri": "https://localhost:8080/"
        },
        "id": "p1V0QE2-8psd",
        "outputId": "e8c84be6-eecb-45ba-93f2-05c83ca428e7"
      },
      "execution_count": null,
      "outputs": [
        {
          "output_type": "execute_result",
          "data": {
            "text/plain": [
              "32033"
            ]
          },
          "metadata": {},
          "execution_count": 5
        }
      ]
    },
    {
      "cell_type": "code",
      "source": [
        "#build the vocab mapping\n",
        "chars = sorted(list(set(''.join(words))))\n",
        "stoi = {s:i+1 for i,s in enumerate(chars)}\n",
        "stoi['.'] = 0\n",
        "itos = {i:s for s,i in stoi.items()}\n",
        "itos"
      ],
      "metadata": {
        "colab": {
          "base_uri": "https://localhost:8080/"
        },
        "id": "O5EQKCI_8pus",
        "outputId": "f7345021-88d4-4ebd-919e-bb1ced7201b3"
      },
      "execution_count": null,
      "outputs": [
        {
          "output_type": "execute_result",
          "data": {
            "text/plain": [
              "{1: 'a',\n",
              " 2: 'b',\n",
              " 3: 'c',\n",
              " 4: 'd',\n",
              " 5: 'e',\n",
              " 6: 'f',\n",
              " 7: 'g',\n",
              " 8: 'h',\n",
              " 9: 'i',\n",
              " 10: 'j',\n",
              " 11: 'k',\n",
              " 12: 'l',\n",
              " 13: 'm',\n",
              " 14: 'n',\n",
              " 15: 'o',\n",
              " 16: 'p',\n",
              " 17: 'q',\n",
              " 18: 'r',\n",
              " 19: 's',\n",
              " 20: 't',\n",
              " 21: 'u',\n",
              " 22: 'v',\n",
              " 23: 'w',\n",
              " 24: 'x',\n",
              " 25: 'y',\n",
              " 26: 'z',\n",
              " 0: '.'}"
            ]
          },
          "metadata": {},
          "execution_count": 6
        }
      ]
    },
    {
      "cell_type": "markdown",
      "source": [
        "# Build datasets"
      ],
      "metadata": {
        "id": "AxVMHVpKOH7h"
      }
    },
    {
      "cell_type": "code",
      "source": [
        "block_size = 3 # context length: how many characters do we take to\n",
        "\n",
        "def build_datasets(words):\n",
        "\n",
        "  X, Y = [], []\n",
        "  for w in words:\n",
        "    # print('current word :', w)\n",
        "    context = [0] * block_size\n",
        "    for ch in w + '.':\n",
        "        idx = stoi[ch]\n",
        "        X.append(context)\n",
        "        Y.append(idx)\n",
        "        # print(''.join(itos[i] for i in context), '--->', itos[idx])\n",
        "        context = context[1:] + [idx]\n",
        "\n",
        "  X = torch.tensor(X)\n",
        "  Y = torch.tensor(Y)\n",
        "  print(X.shape, Y.shape)\n",
        "  return X, Y\n",
        "\n",
        "\n",
        "random.seed(42)\n",
        "random.shuffle(words)\n",
        "# train 80%\n",
        "# val 10%\n",
        "# test 10%\n",
        "n1 = int(0.8*len(words))\n",
        "n2 = int(0.9*len(words))\n",
        "\n",
        "Xtr, Ytr = build_datasets(words[:n1])\n",
        "Xdev, Ydev = build_datasets(words[n1:n2])\n",
        "Xte, Yte = build_datasets(words[n2:])\n"
      ],
      "metadata": {
        "colab": {
          "base_uri": "https://localhost:8080/"
        },
        "id": "Zu3sMCV0OK53",
        "outputId": "af29306c-9aa8-4644-a973-719ca2791a17"
      },
      "execution_count": null,
      "outputs": [
        {
          "output_type": "stream",
          "name": "stdout",
          "text": [
            "torch.Size([182437, 3]) torch.Size([182437])\n",
            "torch.Size([22781, 3]) torch.Size([22781])\n",
            "torch.Size([22928, 3]) torch.Size([22928])\n"
          ]
        }
      ]
    },
    {
      "cell_type": "markdown",
      "source": [
        "\n",
        "\n",
        "# Init parameters\n",
        "\n"
      ],
      "metadata": {
        "id": "IRaMpyq0JkEN"
      }
    },
    {
      "cell_type": "code",
      "source": [
        "C = torch.randn((27, 10))\n",
        "W1 = torch.randn((30, 200))\n",
        "b1 = torch.randn(200)\n",
        "W2 = torch.randn((200, 27))\n",
        "b2 = torch.randn(27)\n",
        "parameters = [C, W1, b1, W2, b2]"
      ],
      "metadata": {
        "id": "Lx25Q1wZ_qM1"
      },
      "execution_count": null,
      "outputs": []
    },
    {
      "cell_type": "code",
      "source": [
        "sum(p.nelement() for p in parameters)"
      ],
      "metadata": {
        "colab": {
          "base_uri": "https://localhost:8080/"
        },
        "id": "PJ3nrpDpEJ5k",
        "outputId": "df1f0707-0a18-4ce5-c751-3df87fd10a19"
      },
      "execution_count": null,
      "outputs": [
        {
          "output_type": "execute_result",
          "data": {
            "text/plain": [
              "11897"
            ]
          },
          "metadata": {},
          "execution_count": 46
        }
      ]
    },
    {
      "cell_type": "code",
      "source": [
        "for p in parameters:\n",
        "  p.requires_grad = True"
      ],
      "metadata": {
        "id": "x-La-A8qE68V"
      },
      "execution_count": null,
      "outputs": []
    },
    {
      "cell_type": "code",
      "source": [
        "epochs = 200000"
      ],
      "metadata": {
        "id": "Ciip_vX8QNN8"
      },
      "execution_count": null,
      "outputs": []
    },
    {
      "cell_type": "markdown",
      "source": [
        "# Train the model"
      ],
      "metadata": {
        "id": "qhIuixSNJuXj"
      }
    },
    {
      "cell_type": "code",
      "source": [
        "lr_i = []\n",
        "loss_i = []\n",
        "step_i = []"
      ],
      "metadata": {
        "id": "rqa911PfT4cU"
      },
      "execution_count": null,
      "outputs": []
    },
    {
      "cell_type": "code",
      "source": [
        "for i in range(epochs):\n",
        "\n",
        "  # minibatch construct\n",
        "  ix = torch.randint(0, Xtr.shape[0], (32,))\n",
        "\n",
        "  # forward pass\n",
        "  embd = C[Xtr[ix]] # 32, 3, 2\n",
        "  h = torch.tanh(embd.view(-1, 30) @ W1 + b1)\n",
        "  logits = h @ W2 + b2\n",
        "  loss = F.cross_entropy(logits, Ytr[ix])\n",
        "\n",
        "\n",
        "  # backward pass\n",
        "  for p in parameters:\n",
        "      p.grad = None\n",
        "  loss.backward()\n",
        "\n",
        "  # learning rate decay\n",
        "  lr = 0.1 if i < 100000 else 0.01\n",
        "  # update\n",
        "  for p in parameters:\n",
        "      p.data += -lr * p.grad\n",
        "\n",
        "  step_i.append(i)\n",
        "  loss_i.append(loss.log10().item())\n",
        "\n",
        "print(f'batch loss : {loss.item()}')"
      ],
      "metadata": {
        "id": "Uw9Ub1hsA7-F",
        "colab": {
          "base_uri": "https://localhost:8080/"
        },
        "outputId": "3f42a657-0a1a-413e-ffad-03b6d8a6ff37"
      },
      "execution_count": null,
      "outputs": [
        {
          "output_type": "stream",
          "name": "stdout",
          "text": [
            "batch loss : 2.150453805923462\n"
          ]
        }
      ]
    },
    {
      "cell_type": "code",
      "source": [
        "plt.plot(step_i, loss_i)\n",
        "plt.xlabel(\"step\")\n",
        "plt.ylabel(\"loss\")\n",
        "plt.show()"
      ],
      "metadata": {
        "colab": {
          "base_uri": "https://localhost:8080/",
          "height": 449
        },
        "id": "Ey8ukRR5R7I3",
        "outputId": "04323611-9692-4b14-cc90-c3d697941fd6"
      },
      "execution_count": null,
      "outputs": [
        {
          "output_type": "display_data",
          "data": {
            "text/plain": [
              "<Figure size 640x480 with 1 Axes>"
            ],
            "image/png": "[encoded data removed]"
          },
          "metadata": {}
        }
      ]
    },
    {
      "cell_type": "markdown",
      "source": [
        "# Eval model"
      ],
      "metadata": {
        "id": "oipplHYzRB1U"
      }
    },
    {
      "cell_type": "code",
      "source": [
        "embd = C[Xdev] # 32, 3, 2\n",
        "h = torch.tanh(embd.view(-1, 30) @ W1 + b1)\n",
        "logits = h @ W2 + b2\n",
        "loss = F.cross_entropy(logits, Ydev)\n",
        "print(f'validation loss : {loss.item()}')"
      ],
      "metadata": {
        "colab": {
          "base_uri": "https://localhost:8080/"
        },
        "id": "-EglkoTaCUhO",
        "outputId": "0e38b386-87ad-414e-a3f3-d7db18220d34"
      },
      "execution_count": null,
      "outputs": [
        {
          "output_type": "stream",
          "name": "stdout",
          "text": [
            "validation loss : 2.162618398666382\n"
          ]
        }
      ]
    },
    {
      "cell_type": "markdown",
      "source": [
        "\n",
        "\n",
        "> Compare with test data\n",
        "\n"
      ],
      "metadata": {
        "id": "6qJBJ4jSRSoN"
      }
    },
    {
      "cell_type": "code",
      "source": [
        "embd = C[Xtr] # 32, 3, 2\n",
        "h = torch.tanh(embd.view(-1, 30) @ W1 + b1)\n",
        "logits = h @ W2 + b2\n",
        "loss = F.cross_entropy(logits, Ytr)\n",
        "print(f'training loss : {loss.item()}')"
      ],
      "metadata": {
        "colab": {
          "base_uri": "https://localhost:8080/"
        },
        "id": "DcjbCFduN1HU",
        "outputId": "83e6eddb-c915-41eb-cec8-18d6883f3f49"
      },
      "execution_count": null,
      "outputs": [
        {
          "output_type": "stream",
          "name": "stdout",
          "text": [
            "training loss : 2.1171529293060303\n"
          ]
        }
      ]
    },
    {
      "cell_type": "code",
      "source": [
        "plt.figure(figsize=(8,8))\n",
        "plt.scatter(C[:,0].data, C[:,1].data, s=200)\n",
        "for i in range(C.shape[0]):\n",
        "  plt.text(C[i,0].item(), C[i,1].item(), itos[i], ha=\"center\", va=\"center\", color='white')\n",
        "plt.grid('minor')"
      ],
      "metadata": {
        "id": "zdGl3e0cCUju",
        "colab": {
          "base_uri": "https://localhost:8080/",
          "height": 676
        },
        "outputId": "05ec0301-f0b5-4a40-b82d-d3d7a699fa3b"
      },
      "execution_count": null,
      "outputs": [
        {
          "output_type": "display_data",
          "data": {
            "text/plain": [
              "<Figure size 800x800 with 1 Axes>"
            ],
            "image/png": "[encoded data removed]"
          },
          "metadata": {}
        }
      ]
    },
    {
      "cell_type": "markdown",
      "source": [
        "# Sampling from the model"
      ],
      "metadata": {
        "id": "ujrWJ5Tpak1S"
      }
    },
    {
      "cell_type": "code",
      "source": [
        "for _ in range(20):\n",
        "\n",
        "  out = []\n",
        "  context = [0] * block_size # initialize with all ...\n",
        "  while True:\n",
        "    emb = C[torch.tensor([context])] # (1,block_size,d)\n",
        "    h = torch.tanh(emb.view(1, -1) @ W1 + b1)\n",
        "    logits = h @ W2 + b2\n",
        "    probs = F.softmax(logits, dim=1)\n",
        "    idx = torch.multinomial(probs, num_samples=1).item()\n",
        "    context = context[1:] + [idx]\n",
        "    out.append(idx)\n",
        "    if idx == 0:\n",
        "      break\n",
        "  print(''.join(itos[i] for i in out))"
      ],
      "metadata": {
        "id": "CwOZmgq0CUmV",
        "colab": {
          "base_uri": "https://localhost:8080/"
        },
        "outputId": "6b64fcfc-50ad-455a-9a07-e5473d1c989b"
      },
      "execution_count": null,
      "outputs": [
        {
          "output_type": "stream",
          "name": "stdout",
          "text": [
            "aadyahsera.\n",
            "rimella.\n",
            "abraya.\n",
            "roba.\n",
            "malioten.\n",
            "kibin.\n",
            "mikhari.\n",
            "mariellyne.\n",
            "demarian.\n",
            "rrunardanah.\n",
            "machanlergerton.\n",
            "anon.\n",
            "ahaan.\n",
            "ala.\n",
            "teleeona.\n",
            "yomaylener.\n",
            "ella.\n",
            "rithally.\n",
            "mel.\n",
            "yanaya.\n"
          ]
        }
      ]
    },
    {
      "cell_type": "code",
      "source": [],
      "metadata": {
        "id": "rAkoMX7wCUrH"
      },
      "execution_count": null,
      "outputs": []
    }
  ]
}